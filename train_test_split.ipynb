{
 "cells": [
  {
   "cell_type": "code",
   "execution_count": 1,
   "metadata": {},
   "outputs": [],
   "source": [
    "# Chris Clifford\n",
    "# CS 613 - Final project\n",
    "# 12/10/20"
   ]
  },
  {
   "cell_type": "code",
   "execution_count": 2,
   "metadata": {},
   "outputs": [],
   "source": [
    "import pandas\n",
    "import csv\n",
    "import numpy as np\n",
    "from sklearn.model_selection import train_test_split"
   ]
  },
  {
   "cell_type": "code",
   "execution_count": 31,
   "metadata": {},
   "outputs": [
    {
     "data": {
      "text/plain": [
       "(3207, 2)"
      ]
     },
     "execution_count": 31,
     "metadata": {},
     "output_type": "execute_result"
    }
   ],
   "source": [
    "SEED = 0\n",
    "DIR = 'data/'\n",
    "DATA_FILE = 'processed99'\n",
    "EXT = '.csv'\n",
    "data = pandas.read_csv(DIR + DATA_FILE + EXT).to_numpy()\n",
    "data.shape"
   ]
  },
  {
   "cell_type": "code",
   "execution_count": 33,
   "metadata": {},
   "outputs": [
    {
     "name": "stdout",
     "output_type": "stream",
     "text": [
      "(46, 2)\n",
      "(46, 2)\n",
      "(92, 2)\n"
     ]
    }
   ],
   "source": [
    "# Split into equal number of each class\n",
    "class1 = data[data[:,1] == 0]\n",
    "class2 = data[data[:,1] == 1]\n",
    "\n",
    "nclass1 = len(class1)\n",
    "nclass2 = len(class2)\n",
    "\n",
    "mn = min(nclass1, nclass2)\n",
    "\n",
    "class1 = class1[:mn]\n",
    "class2 = class2[:mn]\n",
    "\n",
    "print(class1.shape)\n",
    "print(class2.shape)\n",
    "\n",
    "eq_data = np.concatenate((class1, class2), axis=0)\n",
    "print(eq_data.shape)\n",
    "\n",
    "np.random.shuffle(eq_data)"
   ]
  },
  {
   "cell_type": "code",
   "execution_count": 54,
   "metadata": {},
   "outputs": [],
   "source": [
    "# Convert binary classes to text\n",
    "#labeled_data = np.concatenate((eq_data[:,:1],np.array([np.apply_along_axis(lambda x: 'volatility spike' if x == 0 else 'no spike', 1, eq_data[:,[1]])]).T), axis=1)"
   ]
  },
  {
   "cell_type": "code",
   "execution_count": 65,
   "metadata": {},
   "outputs": [],
   "source": [
    "X = eq_data[:,[0]]\n",
    "y = eq_data[:,[1]]"
   ]
  },
  {
   "cell_type": "code",
   "execution_count": 66,
   "metadata": {},
   "outputs": [],
   "source": [
    "# Only take the first N samples, where N is minimum class size\n",
    "# This ensures our data is not biased towards certain classes\n",
    "\n",
    "#N = min(len(y[y == 1]), len(y[y == 0]))\n",
    "\n",
    "#X_sub = X[:N]\n",
    "#y_sub = y[:N]"
   ]
  },
  {
   "cell_type": "code",
   "execution_count": 67,
   "metadata": {},
   "outputs": [
    {
     "name": "stdout",
     "output_type": "stream",
     "text": [
      "Train:  (61, 1) (61, 1)\n",
      "Test:  (31, 1) (31, 1)\n"
     ]
    }
   ],
   "source": [
    "# Split train/test/eval\n",
    "X_train, X_test, y_train, y_test = train_test_split(X, y, test_size=0.33, random_state=0)\n",
    "#X_train, X_eval, y_train, y_eval = train_test_split(X_train, y_train, test_size=0.25, random_state=0)\n",
    "\n",
    "print('Train: ', X_train.shape, y_train.shape)\n",
    "print('Test: ', X_test.shape, y_test.shape)\n",
    "#print('Eval: ', X_eval.shape, y_eval.shape)"
   ]
  },
  {
   "cell_type": "code",
   "execution_count": 68,
   "metadata": {},
   "outputs": [],
   "source": [
    "HEADERS = np.array([['text'], ['label']]).T"
   ]
  },
  {
   "cell_type": "code",
   "execution_count": 69,
   "metadata": {},
   "outputs": [],
   "source": [
    "# Write train file\n",
    "train = np.concatenate((X_train, y_train), axis=1)\n",
    "OUT_FILE = DIR + 'split/' + DATA_FILE + '_train' + EXT\n",
    "with open(OUT_FILE, 'w', encoding='utf-8') as file:\n",
    "    csv.writer(file).writerows(HEADERS)\n",
    "    csv.writer(file).writerows(train)"
   ]
  },
  {
   "cell_type": "code",
   "execution_count": 70,
   "metadata": {},
   "outputs": [],
   "source": [
    "# Write test file\n",
    "test = np.concatenate((X_test, y_test), axis=1)\n",
    "OUT_FILE = DIR + 'split/' + DATA_FILE + '_test' + EXT\n",
    "with open(OUT_FILE, 'w', encoding='utf-8') as file:\n",
    "    csv.writer(file).writerows(HEADERS)\n",
    "    csv.writer(file).writerows(test)"
   ]
  },
  {
   "cell_type": "code",
   "execution_count": 71,
   "metadata": {},
   "outputs": [],
   "source": [
    "# Write eval file\n",
    "#evl = np.concatenate((X_eval, y_eval), axis=1)\n",
    "#OUT_FILE = DIR + 'split/' + DATA_FILE + '_eval' + EXT\n",
    "#with open(OUT_FILE, 'w', encoding='utf-8') as file:\n",
    "#    csv.writer(file).writerows(HEADERS)\n",
    "#    csv.writer(file).writerows(evl)"
   ]
  },
  {
   "cell_type": "code",
   "execution_count": null,
   "metadata": {},
   "outputs": [],
   "source": []
  }
 ],
 "metadata": {
  "kernelspec": {
   "display_name": "Python 3 (ipykernel)",
   "language": "python",
   "name": "python3"
  },
  "language_info": {
   "codemirror_mode": {
    "name": "ipython",
    "version": 3
   },
   "file_extension": ".py",
   "mimetype": "text/x-python",
   "name": "python",
   "nbconvert_exporter": "python",
   "pygments_lexer": "ipython3",
   "version": "3.7.1"
  }
 },
 "nbformat": 4,
 "nbformat_minor": 4
}
