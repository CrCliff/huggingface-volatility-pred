{
 "cells": [
  {
   "cell_type": "code",
   "execution_count": 41,
   "metadata": {},
   "outputs": [],
   "source": [
    "# Chris Clifford\n",
    "# CS 613 - Final project\n",
    "# 12/10/20"
   ]
  },
  {
   "cell_type": "code",
   "execution_count": 41,
   "metadata": {},
   "outputs": [],
   "source": [
    "import pandas\n",
    "import csv\n",
    "import numpy as np\n",
    "from sklearn.model_selection import train_test_split"
   ]
  },
  {
   "cell_type": "code",
   "execution_count": 50,
   "metadata": {},
   "outputs": [
    {
     "data": {
      "text/plain": [
       "(1821, 2)"
      ]
     },
     "execution_count": 50,
     "metadata": {},
     "output_type": "execute_result"
    }
   ],
   "source": [
    "DIR = 'data/'\n",
    "DATA_FILE = 'processed65'\n",
    "EXT = '.csv'\n",
    "data = pandas.read_csv(DIR + DATA_FILE + EXT).to_numpy()\n",
    "# Convert binary classes to text\n",
    "data = np.concatenate((data[:,:1],np.array([np.apply_along_axis(lambda x: 'Volatility Spike' if x == 0 else 'No Spike', 1, data[:,[1]])]).T), axis=1)\n",
    "data.shape"
   ]
  },
  {
   "cell_type": "code",
   "execution_count": 43,
   "metadata": {},
   "outputs": [],
   "source": [
    "X = data[:,[0]]\n",
    "y = data[:,[1]]"
   ]
  },
  {
   "cell_type": "code",
   "execution_count": 44,
   "metadata": {},
   "outputs": [
    {
     "name": "stdout",
     "output_type": "stream",
     "text": [
      "Train:  (915, 1) (915, 1)\n",
      "Test:  (601, 1) (601, 1)\n",
      "Eval:  (305, 1) (305, 1)\n"
     ]
    }
   ],
   "source": [
    "# Split train/test/eval\n",
    "X_train, X_test, y_train, y_test = train_test_split(X, y, test_size=0.33, random_state=0)\n",
    "X_train, X_eval, y_train, y_eval = train_test_split(X_train, y_train, test_size=0.25, random_state=0)\n",
    "\n",
    "print('Train: ', X_train.shape, y_train.shape)\n",
    "print('Test: ', X_test.shape, y_test.shape)\n",
    "print('Eval: ', X_eval.shape, y_eval.shape)"
   ]
  },
  {
   "cell_type": "code",
   "execution_count": 45,
   "metadata": {},
   "outputs": [],
   "source": [
    "HEADERS = np.array([['text'], ['classification']]).T"
   ]
  },
  {
   "cell_type": "code",
   "execution_count": 46,
   "metadata": {},
   "outputs": [],
   "source": [
    "# Write train file\n",
    "train = np.concatenate((X_train, y_train), axis=1)\n",
    "OUT_FILE = DIR + 'split/' + DATA_FILE + '_train' + EXT\n",
    "with open(OUT_FILE, 'w', encoding='utf-8') as file:\n",
    "    csv.writer(file).writerows(HEADERS)\n",
    "    csv.writer(file).writerows(train)"
   ]
  },
  {
   "cell_type": "code",
   "execution_count": 47,
   "metadata": {},
   "outputs": [],
   "source": [
    "# Write test file\n",
    "test = np.concatenate((X_test, y_test), axis=1)\n",
    "OUT_FILE = DIR + 'split/' + DATA_FILE + '_test' + EXT\n",
    "with open(OUT_FILE, 'w', encoding='utf-8') as file:\n",
    "    csv.writer(file).writerows(HEADERS)\n",
    "    csv.writer(file).writerows(test)"
   ]
  },
  {
   "cell_type": "code",
   "execution_count": 48,
   "metadata": {},
   "outputs": [],
   "source": [
    "# Write eval file\n",
    "evl = np.concatenate((X_eval, y_eval), axis=1)\n",
    "OUT_FILE = DIR + 'split/' + DATA_FILE + '_eval' + EXT\n",
    "with open(OUT_FILE, 'w', encoding='utf-8') as file:\n",
    "    csv.writer(file).writerows(HEADERS)\n",
    "    csv.writer(file).writerows(evl)"
   ]
  },
  {
   "cell_type": "code",
   "execution_count": null,
   "metadata": {},
   "outputs": [],
   "source": []
  }
 ],
 "metadata": {
  "kernelspec": {
   "display_name": "Python 3",
   "language": "python",
   "name": "python3"
  },
  "language_info": {
   "codemirror_mode": {
    "name": "ipython",
    "version": 3
   },
   "file_extension": ".py",
   "mimetype": "text/x-python",
   "name": "python",
   "nbconvert_exporter": "python",
   "pygments_lexer": "ipython3",
   "version": "3.7.1"
  }
 },
 "nbformat": 4,
 "nbformat_minor": 4
}
